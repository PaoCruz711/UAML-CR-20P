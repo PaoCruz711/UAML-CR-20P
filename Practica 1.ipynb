{
 "cells": [
  {
   "cell_type": "markdown",
   "metadata": {},
   "source": [
    "NODOS/NODOS ADYACENTES\n",
    "0/Alice 1/Carlos 2/Beto 3/Jorge 4/Enrique 5/Rosa 6/Irene 7/Carmen 8/David 9/Mónica"
   ]
  },
  {
   "cell_type": "code",
   "execution_count": 16,
   "metadata": {},
   "outputs": [],
   "source": [
    " #Creación de diccionario\n",
    "red= {0:[1,2,7,8,9], 1:[0,8,9], 2:[0,3], 3:[2,4,5,6], 4:[5,6],  5:[3,4,6], 6:[3,4,5],  7:[0,9],  8:[0,1], 9:[0,1,7]}\n",
    "        "
   ]
  },
  {
   "cell_type": "code",
   "execution_count": 23,
   "metadata": {},
   "outputs": [
    {
     "name": "stdout",
     "output_type": "stream",
     "text": [
      "10\n"
     ]
    }
   ],
   "source": [
    "#Función número nodos...\n",
    "nodos= list()\n",
    "for key in red:\n",
    "    nodos.append(key)\n",
    "print(len(nodos))"
   ]
  },
  {
   "cell_type": "code",
   "execution_count": 33,
   "metadata": {},
   "outputs": [
    {
     "name": "stdout",
     "output_type": "stream",
     "text": [
      "Nodo: 0 Grado: 5\n",
      "Nodo: 1 Grado: 3\n",
      "Nodo: 2 Grado: 2\n",
      "Nodo: 3 Grado: 4\n",
      "Nodo: 4 Grado: 2\n",
      "Nodo: 5 Grado: 3\n",
      "Nodo: 6 Grado: 3\n",
      "Nodo: 7 Grado: 2\n",
      "Nodo: 8 Grado: 2\n",
      "Nodo: 9 Grado: 3\n"
     ]
    }
   ],
   "source": [
    "#Calcula grados\n",
    "M=0\n",
    "for cont in red:\n",
    "    print('Nodo:',cont,'Grado:',len(red[cont]))\n",
    "    if M<len(red[cont]):\n",
    "        M=len(red[cont])"
   ]
  },
  {
   "cell_type": "code",
   "execution_count": 34,
   "metadata": {},
   "outputs": [
    {
     "name": "stdout",
     "output_type": "stream",
     "text": [
      "5\n"
     ]
    }
   ],
   "source": [
    "#Grado máximo\n",
    "print(M)"
   ]
  },
  {
   "cell_type": "code",
   "execution_count": null,
   "metadata": {},
   "outputs": [],
   "source": []
  }
 ],
 "metadata": {
  "kernelspec": {
   "display_name": "Python 3",
   "language": "python",
   "name": "python3"
  },
  "language_info": {
   "codemirror_mode": {
    "name": "ipython",
    "version": 3
   },
   "file_extension": ".py",
   "mimetype": "text/x-python",
   "name": "python",
   "nbconvert_exporter": "python",
   "pygments_lexer": "ipython3",
   "version": "3.6.10"
  }
 },
 "nbformat": 4,
 "nbformat_minor": 4
}
